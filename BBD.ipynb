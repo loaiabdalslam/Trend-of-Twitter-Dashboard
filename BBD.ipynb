{
 "cells": [
  {
   "cell_type": "markdown",
   "id": "3aeeead0-7966-4bb3-b37a-31c49f92817b",
   "metadata": {},
   "source": [
    "###  Most Common Tweets at Location and Given Search"
   ]
  },
  {
   "cell_type": "code",
   "execution_count": 1,
   "id": "302b19ba-b2a0-4ddc-9fb1-99b0b8e2f17d",
   "metadata": {},
   "outputs": [],
   "source": [
    "import pandas as pd\n",
    "from tqdm.notebook import tqdm\n",
    "import snscrape.modules.twitter as snstwitter"
   ]
  },
  {
   "cell_type": "code",
   "execution_count": 10,
   "id": "d9f19f8c-4f49-476f-993d-f1372168c693",
   "metadata": {},
   "outputs": [],
   "source": [
    "class Twitter:\n",
    "    \n",
    "    def __init__(self):\n",
    "        self.meta_data = [] \n",
    "        self.trendy_feed = []\n",
    "\n",
    "    def feed(self,search_item,place,n_tweets):\n",
    "        scrapper = snstwitter.TwitterSearchScraper(f'{search_item} near:\"{place}\" within:100km')\n",
    "        tweets = []\n",
    "        for i,tweet in enumerate(scrapper.get_items()):\n",
    "            data = [\n",
    "            tweet.date,\n",
    "            tweet.content,\n",
    "            tweet.user.username,\n",
    "            tweet.likeCount,\n",
    "            tweet.retweetCount,\n",
    "            search_item\n",
    "            ]\n",
    "            tweets.append(data)\n",
    "            if i >n_tweets:\n",
    "                break\n",
    "                \n",
    "        return tweets\n",
    "    \n",
    "    \n",
    "    def trendyFeed(self,place,n_tweets):\n",
    "        tweets = []\n",
    "        feed = snstwitter.TwitterTrendsScraper()\n",
    "        self.trendy_feed=feed\n",
    "        for trend in feed.get_items():\n",
    "            trend = self.feed(trend.name,place,n_tweets)\n",
    "            for tweet_raw in trend:\n",
    "                tweets.append(tweet_raw)\n",
    "        return tweets\n",
    "    \n",
    "    \n",
    "    def getTrendyTweets(self,place,n_tweets):\n",
    "        tweets = self.trendyFeed(place,n_tweets)\n",
    "        return pd.DataFrame(tweets,columns=['date','content','username','likeCount','retweetCount','trend'])\n",
    "    \n",
    "    def getSearchedTweets(self,search_item,place,n_tweets):\n",
    "        tweets = self.feed(search_item,place,n_tweets)\n",
    "        return pd.DataFrame(tweets,columns=['date','content','username','likeCount','retweetCount','trend'])\n",
    "    \n",
    "    def getTrendsMetaData(self):\n",
    "        meta_data=[]\n",
    "        feed = snstwitter.TwitterTrendsScraper()\n",
    "        for trend in feed.get_items():\n",
    "            try:\n",
    "                if 'K' in trend.metaDescription:\n",
    "                       count = int(float(trend.metaDescription.replace('K', '').replace('Tweets','').replace(',','')) * 1000)\n",
    "                else:\n",
    "                       count= int(float(trend.metaDescription.replace('K', '').replace('Tweets','').replace(',','')))\n",
    "            except:\n",
    "                pass\n",
    " \n",
    "            meta_data.append((trend.name,count)) \n",
    "        self.meta_data = meta_data\n",
    "        return meta_data\n",
    "    \n",
    "    def calculateTrends(self):\n",
    "        return (len(self.meta_data),sum(x[1] for x in self.meta_data))"
   ]
  },
  {
   "cell_type": "markdown",
   "id": "f678dbbc-c4c0-475e-89da-1fc47985f3bd",
   "metadata": {},
   "source": [
    "###  Most Trendy Tweets With stastics\n"
   ]
  },
  {
   "cell_type": "code",
   "execution_count": 3,
   "id": "3b0b1935-2adf-4162-9f3e-8e7a0ee054d3",
   "metadata": {},
   "outputs": [],
   "source": [
    "twitter = Twitter()\n",
    "twitter_df = twitter.getTrendsMetaData()"
   ]
  },
  {
   "cell_type": "code",
   "execution_count": 4,
   "id": "14e05c2d-dd2e-4b15-b299-6fc53af471f5",
   "metadata": {},
   "outputs": [
    {
     "data": {
      "text/plain": [
       "[('#يوم_الترويه', 94900),\n",
       " ('#الاسكندريه', 94900),\n",
       " ('منتخب السويس', 94900),\n",
       " ('سيف جعفر', 4361),\n",
       " ('العقار المنهار', 4361),\n",
       " ('الاقدار السعيده', 2282),\n",
       " ('وائل غنيم', 6129),\n",
       " ('سيدي بشر', 6129),\n",
       " ('روسيا', 41300),\n",
       " ('حسين الشحات', 3491),\n",
       " ('#يوم_عرفه', 56500),\n",
       " ('#السيسي_عمرها', 3700),\n",
       " ('اليوم الاثنين', 4647),\n",
       " ('#الكيمياء', 2709),\n",
       " ('26 يونيو 2023', 2709),\n",
       " ('عيد سعيد', 3106),\n",
       " ('العطش الاكبر', 11700),\n",
       " ('سيف فاروق جعفر', 1839),\n",
       " ('مصطفي عسل', 1085),\n",
       " ('نجلاء فتحي', 1085)]"
      ]
     },
     "execution_count": 4,
     "metadata": {},
     "output_type": "execute_result"
    }
   ],
   "source": [
    "twitter_df"
   ]
  },
  {
   "cell_type": "code",
   "execution_count": 5,
   "id": "fe9a2c70-9757-477a-9dff-fad99e914afc",
   "metadata": {},
   "outputs": [
    {
     "data": {
      "text/plain": [
       "(20, 441833)"
      ]
     },
     "execution_count": 5,
     "metadata": {},
     "output_type": "execute_result"
    }
   ],
   "source": [
    "twitter.calculateTrends()"
   ]
  },
  {
   "cell_type": "code",
   "execution_count": 11,
   "id": "d58b9fac-ff8e-427d-92f3-8cb19ab69dcc",
   "metadata": {},
   "outputs": [
    {
     "name": "stderr",
     "output_type": "stream",
     "text": [
      "C:\\Users\\loay\\AppData\\Local\\Temp/ipykernel_18948/4049557940.py:13: DeprecatedFeatureWarning: content is deprecated, use rawContent instead\n",
      "  tweet.content,\n",
      "Skipping unrecognised entry ID: 'promoted-tweet-1651183467508424704-3b91daa0c41619ae'\n",
      "Skipping unrecognised entry ID: 'promoted-tweet-1579044066003914752-3b911ae045cb8046'\n"
     ]
    }
   ],
   "source": [
    "twitter = Twitter()\n",
    "twitter_df = twitter.feed(\"wegz\",\"cairo\",5)"
   ]
  },
  {
   "cell_type": "code",
   "execution_count": 12,
   "id": "c6e2bd94-aaa3-4418-abe1-24d9e715486d",
   "metadata": {},
   "outputs": [
    {
     "name": "stderr",
     "output_type": "stream",
     "text": [
      "C:\\Users\\loay\\AppData\\Local\\Temp/ipykernel_18948/4049557940.py:13: DeprecatedFeatureWarning: content is deprecated, use rawContent instead\n",
      "  tweet.content,\n",
      "Skipping unrecognised entry ID: 'promoted-tweet-1651183467508424704-3b91f01b60363d42'\n",
      "Skipping unrecognised entry ID: 'promoted-tweet-1666150461756555264-3b918d7f6e3c6ec1'\n",
      "Skipping unrecognised entry ID: 'promoted-tweet-1671621660930347010-3b91aed5d7a29c77'\n",
      "Skipping unrecognised entry ID: 'promoted-tweet-1651183467508424704-3b918d0eecebd615'\n",
      "Skipping unrecognised entry ID: 'promoted-tweet-1579044066003914752-3b915938c256371b'\n",
      "Skipping unrecognised entry ID: 'promoted-tweet-1666150461756555264-3b919a4cb11c0905'\n",
      "Skipping unrecognised entry ID: 'promoted-tweet-1651183467508424704-3b9173c09f70af0a'\n",
      "Skipping unrecognised entry ID: 'promoted-tweet-1666150461756555264-3b916fc7d65bceb2'\n",
      "Skipping unrecognised entry ID: 'promoted-tweet-1666858552370114567-3b91b6ee41b2dc98'\n",
      "Skipping unrecognised entry ID: 'promoted-tweet-1651183467508424704-3b91506bd4700471'\n",
      "Skipping unrecognised entry ID: 'promoted-tweet-1666150461756555264-3b91bda3c064ff35'\n",
      "Skipping unrecognised entry ID: 'promoted-tweet-1579044066003914752-3b9137f725380bb4'\n",
      "Skipping unrecognised entry ID: 'promoted-tweet-1651183467508424704-3b926f32cdeceba1'\n",
      "Skipping unrecognised entry ID: 'promoted-tweet-1666150461756555264-3b92b42fe1d16c52'\n",
      "Skipping unrecognised entry ID: 'promoted-tweet-1673262324742750208-3b92f780240e59d6'\n",
      "Skipping unrecognised entry ID: 'promoted-tweet-1651183467508424704-3b92af4c3f5e4fc6'\n",
      "Skipping unrecognised entry ID: 'promoted-tweet-1666150461756555264-3b92f8a9e6e8fe1d'\n",
      "Skipping unrecognised entry ID: 'promoted-tweet-1666858552370114567-3b92160084aff577'\n",
      "Skipping unrecognised entry ID: 'promoted-tweet-1651183467508424704-3b9288c2fcd890a7'\n",
      "Skipping unrecognised entry ID: 'promoted-tweet-1666150461756555264-3b92de263ac9bb89'\n",
      "Skipping unrecognised entry ID: 'promoted-tweet-1671621660930347010-3b92478512d15ce9'\n",
      "Skipping unrecognised entry ID: 'promoted-tweet-1651183467508424704-3b92a2f44b72eba9'\n",
      "Skipping unrecognised entry ID: 'promoted-tweet-1666150461756555264-3b92ea7bc53e3fec'\n",
      "Stopping after 20 empty pages\n",
      "Skipping unrecognised entry ID: 'promoted-tweet-1651183467508424704-3b929e1dffc4a31d'\n",
      "Skipping unrecognised entry ID: 'promoted-tweet-1579044066003914752-3b92b00a9aef1629'\n",
      "Skipping unrecognised entry ID: 'promoted-tweet-1666150461756555264-3b92be8f3135b71a'\n",
      "Skipping unrecognised entry ID: 'promoted-tweet-1651183467508424704-3b924cbbb802ca18'\n",
      "Skipping unrecognised entry ID: 'promoted-tweet-1666150461756555264-3b9295884f8eb469'\n",
      "Skipping unrecognised entry ID: 'promoted-tweet-1673262324742750208-3b92ab41de3ae307'\n",
      "Skipping unrecognised entry ID: 'promoted-tweet-1672575300759060480-3b923524be2c07da'\n",
      "Skipping unrecognised entry ID: 'promoted-tweet-1651183467508424704-3b92aacbc0c64c66'\n",
      "Skipping unrecognised entry ID: 'promoted-tweet-1666150461756555264-3b9228429363846a'\n",
      "Skipping unrecognised entry ID: 'promoted-tweet-1651183467508424704-3b921fe4c89bbc62'\n",
      "Skipping unrecognised entry ID: 'promoted-tweet-1666150461756555264-3b921da6b6569dc1'\n",
      "Skipping unrecognised entry ID: 'promoted-tweet-1579044066003914752-3b92ff493be63e9a'\n",
      "Skipping unrecognised entry ID: 'promoted-tweet-1651183467508424704-3b923f3e4f8513dd'\n",
      "Skipping unrecognised entry ID: 'promoted-tweet-1666150461756555264-3b92b36ba6978fd8'\n",
      "Skipping unrecognised entry ID: 'promoted-tweet-1579044066003914752-3b92f10c8591b075'\n",
      "Unavailable user in card on tweet 1673225028010229761\n",
      "User 1667612219654262789 not found in user refs in card on tweet 1673225028010229761\n",
      "Skipping unrecognised entry ID: 'promoted-tweet-1651183467508424704-3b9209dc2b5d91bd'\n",
      "Skipping unrecognised entry ID: 'promoted-tweet-1579044066003914752-3b92ed32b1c94aea'\n",
      "Skipping unrecognised entry ID: 'promoted-tweet-1666150461756555264-3b927728c381fe5b'\n",
      "Skipping unrecognised entry ID: 'promoted-tweet-1651183467508424704-3b9258c31c30b79e'\n",
      "Skipping unrecognised entry ID: 'promoted-tweet-1666150461756555264-3b92a5e2437cb0d2'\n",
      "Skipping unrecognised entry ID: 'promoted-tweet-1673262324742750208-3b92f3f865aa36e8'\n",
      "Skipping unrecognised entry ID: 'promoted-tweet-1651183467508424704-3b9299e8a03cf8aa'\n",
      "Skipping unrecognised entry ID: 'promoted-tweet-1666150461756555264-3b92a3c406e5bf74'\n",
      "Skipping unrecognised entry ID: 'promoted-tweet-1673262324742750208-3b926d6278202088'\n",
      "Skipping unrecognised entry ID: 'promoted-tweet-1651183467508424704-3b92841b07e6ac3b'\n",
      "Skipping unrecognised entry ID: 'promoted-tweet-1666150461756555264-3b92a1adbe90b959'\n",
      "Skipping unrecognised entry ID: 'promoted-tweet-1579044066003914752-3b92e7df8706f135'\n",
      "Skipping unrecognised entry ID: 'promoted-tweet-1651183467508424704-3b922054bd01c51b'\n",
      "Skipping unrecognised entry ID: 'promoted-tweet-1579044066003914752-3b922380322a6477'\n",
      "Skipping unrecognised entry ID: 'promoted-tweet-1666150461756555264-3b92e59bfe6ff7a5'\n",
      "Skipping unrecognised entry ID: 'promoted-tweet-1651183467508424704-3b92127a2a8fd24e'\n",
      "Skipping unrecognised entry ID: 'promoted-tweet-1666150461756555264-3b92b22a377f5abd'\n",
      "Skipping unrecognised entry ID: 'promoted-tweet-1673262324742750208-3b9225d50310c9b9'\n",
      "Skipping unrecognised entry ID: 'promoted-tweet-1651183467508424704-3b92fd6a3d3856b1'\n",
      "Skipping unrecognised entry ID: 'promoted-tweet-1579044066003914752-3b92813505720e27'\n",
      "Skipping unrecognised entry ID: 'promoted-tweet-1666150461756555264-3b92341d1505619e'\n"
     ]
    }
   ],
   "source": [
    "twitter_df = twitter.getTrendyTweets('cairo',10)"
   ]
  },
  {
   "cell_type": "code",
   "execution_count": 13,
   "id": "3f6f2724-cd33-4e90-8ff0-4703183b7110",
   "metadata": {},
   "outputs": [
    {
     "data": {
      "text/html": [
       "<div>\n",
       "<style scoped>\n",
       "    .dataframe tbody tr th:only-of-type {\n",
       "        vertical-align: middle;\n",
       "    }\n",
       "\n",
       "    .dataframe tbody tr th {\n",
       "        vertical-align: top;\n",
       "    }\n",
       "\n",
       "    .dataframe thead th {\n",
       "        text-align: right;\n",
       "    }\n",
       "</style>\n",
       "<table border=\"1\" class=\"dataframe\">\n",
       "  <thead>\n",
       "    <tr style=\"text-align: right;\">\n",
       "      <th></th>\n",
       "      <th>date</th>\n",
       "      <th>content</th>\n",
       "      <th>username</th>\n",
       "      <th>likeCount</th>\n",
       "      <th>retweetCount</th>\n",
       "      <th>trend</th>\n",
       "    </tr>\n",
       "  </thead>\n",
       "  <tbody>\n",
       "    <tr>\n",
       "      <th>0</th>\n",
       "      <td>2023-06-26 09:57:51+00:00</td>\n",
       "      <td>اللهم اكتبها لنا العام القادم\\nولكل من قال آمي...</td>\n",
       "      <td>titosaedjh</td>\n",
       "      <td>0</td>\n",
       "      <td>0</td>\n",
       "      <td>#يوم_الترويه</td>\n",
       "    </tr>\n",
       "    <tr>\n",
       "      <th>1</th>\n",
       "      <td>2023-06-26 09:45:12+00:00</td>\n",
       "      <td>لبيك اللهم لبيك...لبيك لاشريك لك لبيك إن الحمد...</td>\n",
       "      <td>ahmedselim262</td>\n",
       "      <td>0</td>\n",
       "      <td>0</td>\n",
       "      <td>#يوم_الترويه</td>\n",
       "    </tr>\n",
       "    <tr>\n",
       "      <th>2</th>\n",
       "      <td>2023-06-26 09:38:02+00:00</td>\n",
       "      <td>اليوم #يوم_التروية\\nوسُمِّيَ بهذا الاسم لأنَّ ...</td>\n",
       "      <td>nonameadded4</td>\n",
       "      <td>0</td>\n",
       "      <td>0</td>\n",
       "      <td>#يوم_الترويه</td>\n",
       "    </tr>\n",
       "    <tr>\n",
       "      <th>3</th>\n",
       "      <td>2023-06-26 09:27:39+00:00</td>\n",
       "      <td>#يوم_الترويه\\n\\n لبيك ربي وإن لم أكن بين الزحا...</td>\n",
       "      <td>A56466602</td>\n",
       "      <td>0</td>\n",
       "      <td>0</td>\n",
       "      <td>#يوم_الترويه</td>\n",
       "    </tr>\n",
       "    <tr>\n",
       "      <th>4</th>\n",
       "      <td>2023-06-26 09:19:13+00:00</td>\n",
       "      <td>اللَّهمَّ إنِّي أعوذُبِك من شرِّماعمِلتُ ومن ش...</td>\n",
       "      <td>MEzzat81</td>\n",
       "      <td>1</td>\n",
       "      <td>0</td>\n",
       "      <td>#يوم_الترويه</td>\n",
       "    </tr>\n",
       "    <tr>\n",
       "      <th>...</th>\n",
       "      <td>...</td>\n",
       "      <td>...</td>\n",
       "      <td>...</td>\n",
       "      <td>...</td>\n",
       "      <td>...</td>\n",
       "      <td>...</td>\n",
       "    </tr>\n",
       "    <tr>\n",
       "      <th>230</th>\n",
       "      <td>2023-06-26 09:24:23+00:00</td>\n",
       "      <td>جوندوجان: أحلم بقميص برشلونة منذ طفولتي.. وأثق...</td>\n",
       "      <td>Yallakoranow</td>\n",
       "      <td>47</td>\n",
       "      <td>0</td>\n",
       "      <td>برشلونة</td>\n",
       "    </tr>\n",
       "    <tr>\n",
       "      <th>231</th>\n",
       "      <td>2023-06-26 09:22:38+00:00</td>\n",
       "      <td>اللى مطمنى على برشلونة و ان مصيره مش هيبقى زى ...</td>\n",
       "      <td>gwinie_l</td>\n",
       "      <td>1</td>\n",
       "      <td>0</td>\n",
       "      <td>برشلونة</td>\n",
       "    </tr>\n",
       "    <tr>\n",
       "      <th>232</th>\n",
       "      <td>2023-06-26 09:20:00+00:00</td>\n",
       "      <td>بعد انضمامه رسميًا.. الكشف عن تفاصيل عقد #جوند...</td>\n",
       "      <td>AlMasrySports</td>\n",
       "      <td>1</td>\n",
       "      <td>0</td>\n",
       "      <td>برشلونة</td>\n",
       "    </tr>\n",
       "    <tr>\n",
       "      <th>233</th>\n",
       "      <td>2023-06-26 09:16:34+00:00</td>\n",
       "      <td>أول تعليق من جوندوجان على انتقاله إلى برشلونة ...</td>\n",
       "      <td>Btolat</td>\n",
       "      <td>3</td>\n",
       "      <td>0</td>\n",
       "      <td>برشلونة</td>\n",
       "    </tr>\n",
       "    <tr>\n",
       "      <th>234</th>\n",
       "      <td>2023-06-26 09:14:16+00:00</td>\n",
       "      <td>@RdeXdiy ليفربول\\nبرشلونة\\nانتر\\nPSG\\nبايرن</td>\n",
       "      <td>zeiad_leo</td>\n",
       "      <td>0</td>\n",
       "      <td>0</td>\n",
       "      <td>برشلونة</td>\n",
       "    </tr>\n",
       "  </tbody>\n",
       "</table>\n",
       "<p>235 rows × 6 columns</p>\n",
       "</div>"
      ],
      "text/plain": [
       "                         date  \\\n",
       "0   2023-06-26 09:57:51+00:00   \n",
       "1   2023-06-26 09:45:12+00:00   \n",
       "2   2023-06-26 09:38:02+00:00   \n",
       "3   2023-06-26 09:27:39+00:00   \n",
       "4   2023-06-26 09:19:13+00:00   \n",
       "..                        ...   \n",
       "230 2023-06-26 09:24:23+00:00   \n",
       "231 2023-06-26 09:22:38+00:00   \n",
       "232 2023-06-26 09:20:00+00:00   \n",
       "233 2023-06-26 09:16:34+00:00   \n",
       "234 2023-06-26 09:14:16+00:00   \n",
       "\n",
       "                                               content       username  \\\n",
       "0    اللهم اكتبها لنا العام القادم\\nولكل من قال آمي...     titosaedjh   \n",
       "1    لبيك اللهم لبيك...لبيك لاشريك لك لبيك إن الحمد...  ahmedselim262   \n",
       "2    اليوم #يوم_التروية\\nوسُمِّيَ بهذا الاسم لأنَّ ...   nonameadded4   \n",
       "3    #يوم_الترويه\\n\\n لبيك ربي وإن لم أكن بين الزحا...      A56466602   \n",
       "4    اللَّهمَّ إنِّي أعوذُبِك من شرِّماعمِلتُ ومن ش...       MEzzat81   \n",
       "..                                                 ...            ...   \n",
       "230  جوندوجان: أحلم بقميص برشلونة منذ طفولتي.. وأثق...   Yallakoranow   \n",
       "231  اللى مطمنى على برشلونة و ان مصيره مش هيبقى زى ...       gwinie_l   \n",
       "232  بعد انضمامه رسميًا.. الكشف عن تفاصيل عقد #جوند...  AlMasrySports   \n",
       "233  أول تعليق من جوندوجان على انتقاله إلى برشلونة ...         Btolat   \n",
       "234        @RdeXdiy ليفربول\\nبرشلونة\\nانتر\\nPSG\\nبايرن      zeiad_leo   \n",
       "\n",
       "     likeCount  retweetCount         trend  \n",
       "0            0             0  #يوم_الترويه  \n",
       "1            0             0  #يوم_الترويه  \n",
       "2            0             0  #يوم_الترويه  \n",
       "3            0             0  #يوم_الترويه  \n",
       "4            1             0  #يوم_الترويه  \n",
       "..         ...           ...           ...  \n",
       "230         47             0       برشلونة  \n",
       "231          1             0       برشلونة  \n",
       "232          1             0       برشلونة  \n",
       "233          3             0       برشلونة  \n",
       "234          0             0       برشلونة  \n",
       "\n",
       "[235 rows x 6 columns]"
      ]
     },
     "execution_count": 13,
     "metadata": {},
     "output_type": "execute_result"
    }
   ],
   "source": [
    "twitter_df"
   ]
  },
  {
   "cell_type": "code",
   "execution_count": null,
   "id": "280b8cb1-a8d6-422e-a7f6-b4eb2bf8332e",
   "metadata": {},
   "outputs": [],
   "source": []
  },
  {
   "cell_type": "code",
   "execution_count": null,
   "id": "37a8dd4d-f8dd-463b-b9f4-fb4f511ea8ac",
   "metadata": {},
   "outputs": [],
   "source": [
    "twitter_df"
   ]
  },
  {
   "cell_type": "code",
   "execution_count": null,
   "id": "8c1867e6-62a3-4e21-9d40-7042992136d2",
   "metadata": {},
   "outputs": [],
   "source": [
    "import nltk\n",
    "nltk.download([\n",
    "\"names\",\n",
    "\"stopwords\",\n",
    "\"state_union\",\n",
    "\"twitter_samples\",\n",
    "\"movie_reviews\",\n",
    "\"averaged_perceptron_tagger\",\n",
    "\"vader_lexicon\",\n",
    "\"punkt\",\n",
    "])"
   ]
  },
  {
   "cell_type": "code",
   "execution_count": null,
   "id": "841daa5b-211a-4904-9b6d-06f7f2be0b1f",
   "metadata": {},
   "outputs": [],
   "source": [
    "import re\n",
    "twitter_df_corpus = ''.join(twitter_df['content'])\n",
    "twitter_df_corpus = re.sub(r\"(@\\[A-Za-z0-9]+)|([^0-9A-Za-z \\t])|(\\w+:\\/\\/\\S+)|^rt|http.+?\", \"\", twitter_df_corpus)\n",
    "\n",
    "# Remove English Stop Words \n",
    "stopwords = nltk.corpus.stopwords.words(\"english\")\n",
    "words = [w for w in twitter_df_corpus if w.lower() not in stopwords]\n",
    "\n",
    "#Remove Arabic Stop Wodrs \n",
    "stopwords = nltk.corpus.stopwords.words(\"arabic\")\n",
    "words = [w for w in words if w.lower() not in stopwords]\n",
    "\n",
    "\n",
    "#twitter_df_corpus = ''.join(twitter_df_corpus)\n",
    "words: list[str] = nltk.word_tokenize(twitter_df_corpus)\n",
    "fd = nltk.FreqDist(words)"
   ]
  },
  {
   "cell_type": "markdown",
   "id": "41712056-015a-4f84-b0f0-31b7dc76d71d",
   "metadata": {},
   "source": [
    "### 2 - Most Common  Word in Tweets "
   ]
  },
  {
   "cell_type": "code",
   "execution_count": null,
   "id": "84b775f2-aaee-4dd7-83d8-3796ab371ed7",
   "metadata": {},
   "outputs": [],
   "source": [
    "fd.most_common(10)"
   ]
  },
  {
   "cell_type": "markdown",
   "id": "7b8ce465-fbe9-42e8-b67c-72108e0f19d1",
   "metadata": {},
   "source": [
    "\n",
    "### 3 - Most Common  Tri-Sentence in Tweets "
   ]
  },
  {
   "cell_type": "code",
   "execution_count": null,
   "id": "88c7e12f-574a-4866-bab3-d4808cc725fd",
   "metadata": {},
   "outputs": [],
   "source": [
    "finder = nltk.collocations.TrigramCollocationFinder.from_words(words)\n",
    "finder.ngram_fd.most_common(10)"
   ]
  },
  {
   "cell_type": "markdown",
   "id": "cb0051bb-1b5e-4bc3-82c4-571a3db629a4",
   "metadata": {},
   "source": [
    "### 4- Sentiment Analysis For each tweets compunded"
   ]
  },
  {
   "cell_type": "code",
   "execution_count": null,
   "id": "ce6402ef-06f8-4d78-9572-20bc8de82b7f",
   "metadata": {},
   "outputs": [],
   "source": [
    "from nltk.sentiment import SentimentIntensityAnalyzer\n",
    "sia = SentimentIntensityAnalyzer()\n",
    "sia_dict = {'positive':0,'neatral':0,'negative':0,'total':0}\n",
    "for tweet in twitter_df.content:\n",
    "    sia_x = sia.polarity_scores(tweet)\n",
    "    sia_dict['positive'] += sia_x['pos']  \n",
    "    sia_dict['negative'] += sia_x['neg'] \n",
    "    sia_dict['neatral'] += sia_x['neu'] \n",
    "    sia_dict['total'] += 1 \n"
   ]
  },
  {
   "cell_type": "code",
   "execution_count": null,
   "id": "b9c3567e-bc26-4785-9b9c-d3be13a6ee02",
   "metadata": {},
   "outputs": [],
   "source": [
    "sia_dict"
   ]
  },
  {
   "cell_type": "code",
   "execution_count": null,
   "id": "462fee5a-ce43-4ee6-be12-7b95e7fba66b",
   "metadata": {},
   "outputs": [],
   "source": []
  }
 ],
 "metadata": {
  "kernelspec": {
   "display_name": "Python 3 (ipykernel)",
   "language": "python",
   "name": "python3"
  },
  "language_info": {
   "codemirror_mode": {
    "name": "ipython",
    "version": 3
   },
   "file_extension": ".py",
   "mimetype": "text/x-python",
   "name": "python",
   "nbconvert_exporter": "python",
   "pygments_lexer": "ipython3",
   "version": "3.9.7"
  }
 },
 "nbformat": 4,
 "nbformat_minor": 5
}
